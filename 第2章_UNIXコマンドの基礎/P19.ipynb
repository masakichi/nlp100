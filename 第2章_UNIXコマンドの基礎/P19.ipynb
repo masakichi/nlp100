{
 "cells": [
  {
   "cell_type": "markdown",
   "metadata": {},
   "source": [
    "# 各行の1コラム目の文字列の出現頻度を求め，出現頻度の高い順に並べる\n",
    "\n",
    "各行の1列目の文字列の出現頻度を求め，その高い順に並べて表示せよ．確認にはcut, uniq, sortコマンドを用いよ．"
   ]
  },
  {
   "cell_type": "code",
   "execution_count": 1,
   "metadata": {},
   "outputs": [
    {
     "name": "stdout",
     "output_type": "stream",
     "text": [
      "3 埼玉県\n",
      "3 山形県\n",
      "3 山梨県\n",
      "3 群馬県\n",
      "2 岐阜県\n",
      "2 静岡県\n",
      "2 愛知県\n",
      "2 千葉県\n",
      "1 高知県\n",
      "1 和歌山県\n",
      "1 愛媛県\n",
      "1 大阪府\n"
     ]
    }
   ],
   "source": [
    "from collections import Counter\n",
    "\n",
    "states = []\n",
    "with open('col1.txt') as col1:\n",
    "    for line in col1:\n",
    "        states.append(line.strip())\n",
    "        \n",
    "counter = Counter(states)\n",
    "for state, count in counter.most_common():\n",
    "    print('%s %s' % (count, state))"
   ]
  },
  {
   "cell_type": "code",
   "execution_count": 2,
   "metadata": {},
   "outputs": [
    {
     "name": "stdout",
     "output_type": "stream",
     "text": [
      "   3 群馬県\r\n",
      "   3 山梨県\r\n",
      "   3 山形県\r\n",
      "   3 埼玉県\r\n",
      "   2 静岡県\r\n",
      "   2 愛知県\r\n",
      "   2 岐阜県\r\n",
      "   2 千葉県\r\n",
      "   1 和歌山県\r\n",
      "   1 高知県\r\n",
      "   1 愛媛県\r\n",
      "   1 大阪府\r\n"
     ]
    }
   ],
   "source": [
    "!cat col1.txt | sort | uniq -c | sort -k 1 -r"
   ]
  }
 ],
 "metadata": {
  "kernelspec": {
   "display_name": "Python 3",
   "language": "python",
   "name": "python3"
  },
  "language_info": {
   "codemirror_mode": {
    "name": "ipython",
    "version": 3
   },
   "file_extension": ".py",
   "mimetype": "text/x-python",
   "name": "python",
   "nbconvert_exporter": "python",
   "pygments_lexer": "ipython3",
   "version": "3.6.4"
  }
 },
 "nbformat": 4,
 "nbformat_minor": 2
}
