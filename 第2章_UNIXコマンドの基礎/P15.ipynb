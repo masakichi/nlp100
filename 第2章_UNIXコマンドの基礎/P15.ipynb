{
 "cells": [
  {
   "cell_type": "markdown",
   "metadata": {},
   "source": [
    "# 末尾のN行を出力\n",
    "\n",
    "自然数Nをコマンドライン引数などの手段で受け取り，入力のうち末尾のN行だけを表示せよ．確認にはtailコマンドを用いよ．"
   ]
  },
  {
   "cell_type": "code",
   "execution_count": 1,
   "metadata": {},
   "outputs": [
    {
     "name": "stdout",
     "output_type": "stream",
     "text": [
      "# coding: utf-8\r\n",
      "\r\n",
      "import sys\r\n",
      "import argparse\r\n",
      "\r\n",
      "def tail():\r\n",
      "    prog = 'tail [-n count] [file ...]'\r\n",
      "    description = 'tail -- display the last part of a file'\r\n",
      "    parser = argparse.ArgumentParser(prog=prog, description=description)\r\n",
      "    parser.add_argument('-n', default=10, type=int)\r\n",
      "    parser.add_argument('infile', nargs='?', type=argparse.FileType())\r\n",
      "    options = parser.parse_args()\r\n",
      "    \r\n",
      "    count = options.n\r\n",
      "    infile = options.infile or sys.stdin\r\n",
      "    outfile = sys.stdout\r\n",
      "\r\n",
      "    with infile, outfile:\r\n",
      "        # TODO(Gimo): if file is large, should be rewritten.\r\n",
      "        for line in infile.readlines()[-count:]:\r\n",
      "            outfile.write(line)\r\n",
      "\r\n",
      "if __name__ == '__main__':\r\n",
      "    tail()"
     ]
    }
   ],
   "source": [
    "!cat tail.py"
   ]
  },
  {
   "cell_type": "code",
   "execution_count": 2,
   "metadata": {},
   "outputs": [
    {
     "name": "stdout",
     "output_type": "stream",
     "text": [
      "Files /dev/fd/63 and /dev/fd/62 are identical\n"
     ]
    }
   ],
   "source": [
    "%%bash\n",
    "diff -s <(python tail.py -n 5 hightemp.txt) <(tail -n 5 hightemp.txt)"
   ]
  }
 ],
 "metadata": {
  "kernelspec": {
   "display_name": "Python 3",
   "language": "python",
   "name": "python3"
  },
  "language_info": {
   "codemirror_mode": {
    "name": "ipython",
    "version": 3
   },
   "file_extension": ".py",
   "mimetype": "text/x-python",
   "name": "python",
   "nbconvert_exporter": "python",
   "pygments_lexer": "ipython3",
   "version": "3.6.4"
  }
 },
 "nbformat": 4,
 "nbformat_minor": 2
}
