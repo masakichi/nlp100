{
 "cells": [
  {
   "cell_type": "markdown",
   "metadata": {},
   "source": [
    "# col1.txtとcol2.txtをマージ\n",
    "\n",
    "12で作ったcol1.txtとcol2.txtを結合し，元のファイルの1列目と2列目をタブ区切りで並べたテキストファイルを作成せよ．確認にはpasteコマンドを用いよ．"
   ]
  },
  {
   "cell_type": "code",
   "execution_count": 1,
   "metadata": {},
   "outputs": [],
   "source": [
    "with open('col1.txt') as col1_txt, open('col2.txt') as col2_txt, open('col1_col2.txt', 'w') as col1_col2_txt:\n",
    "    for c1, c2 in zip(col1_txt, col2_txt):\n",
    "        col1_col2_txt.write('%s\\t%s\\n' % (c1.rstrip(), c2.rstrip()))"
   ]
  },
  {
   "cell_type": "code",
   "execution_count": 2,
   "metadata": {},
   "outputs": [
    {
     "name": "stdout",
     "output_type": "stream",
     "text": [
      "高知県\t江川崎\r\n",
      "埼玉県\t熊谷\r\n",
      "岐阜県\t多治見\r\n",
      "山形県\t山形\r\n",
      "山梨県\t甲府\r\n",
      "和歌山県\tかつらぎ\r\n",
      "静岡県\t天竜\r\n",
      "山梨県\t勝沼\r\n",
      "埼玉県\t越谷\r\n",
      "群馬県\t館林\r\n",
      "群馬県\t上里見\r\n",
      "愛知県\t愛西\r\n",
      "千葉県\t牛久\r\n",
      "静岡県\t佐久間\r\n",
      "愛媛県\t宇和島\r\n",
      "山形県\t酒田\r\n",
      "岐阜県\t美濃\r\n",
      "群馬県\t前橋\r\n",
      "千葉県\t茂原\r\n",
      "埼玉県\t鳩山\r\n",
      "大阪府\t豊中\r\n",
      "山梨県\t大月\r\n",
      "山形県\t鶴岡\r\n",
      "愛知県\t名古屋\r\n"
     ]
    }
   ],
   "source": [
    "!cat col1_col2.txt"
   ]
  },
  {
   "cell_type": "code",
   "execution_count": 3,
   "metadata": {},
   "outputs": [
    {
     "name": "stdout",
     "output_type": "stream",
     "text": [
      "Files /dev/fd/63 and col1_col2.txt are identical\n"
     ]
    }
   ],
   "source": [
    "%%bash\n",
    "# fishshell: diff -s (paste -d '\\t' col1.txt col2.txt | psub) col1_col2.txt\n",
    "diff -s <(paste -d '\\t' col1.txt col2.txt) col1_col2.txt\n",
    "\n",
    "rm col1_col2.txt"
   ]
  }
 ],
 "metadata": {
  "kernelspec": {
   "display_name": "Python 3",
   "language": "python",
   "name": "python3"
  },
  "language_info": {
   "codemirror_mode": {
    "name": "ipython",
    "version": 3
   },
   "file_extension": ".py",
   "mimetype": "text/x-python",
   "name": "python",
   "nbconvert_exporter": "python",
   "pygments_lexer": "ipython3",
   "version": "3.6.4"
  }
 },
 "nbformat": 4,
 "nbformat_minor": 2
}
