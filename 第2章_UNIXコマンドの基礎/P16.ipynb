{
 "cells": [
  {
   "cell_type": "markdown",
   "metadata": {},
   "source": [
    "# ファイルをN分割する\n",
    "\n",
    "自然数Nをコマンドライン引数などの手段で受け取り，入力のファイルを行単位でN分割せよ．同様の処理をsplitコマンドで実現せよ．"
   ]
  },
  {
   "cell_type": "code",
   "execution_count": 1,
   "metadata": {},
   "outputs": [],
   "source": [
    "def split(f, num=1):\n",
    "    with f:\n",
    "        lines = f.readlines()\n",
    "    line_count = len(lines)\n",
    "    line_count_piece = int((line_count - line_count % num) / num) + 1\n",
    "    for i in range(num):\n",
    "        with open('split_%s.txt' % i, 'w') as piece:\n",
    "            start = i * line_count_piece\n",
    "            limit = line_count_piece\n",
    "            piece.writelines(lines[start:start+limit])\n",
    "            \n",
    "with open('hightemp.txt') as f:\n",
    "    split(f, 5)"
   ]
  },
  {
   "cell_type": "code",
   "execution_count": 2,
   "metadata": {},
   "outputs": [
    {
     "name": "stdout",
     "output_type": "stream",
     "text": [
      "Files /dev/fd/63 and hightemp.txt are identical\n"
     ]
    }
   ],
   "source": [
    "%%bash\n",
    "diff -s <(cat split*.txt) hightemp.txt"
   ]
  },
  {
   "cell_type": "code",
   "execution_count": 3,
   "metadata": {},
   "outputs": [
    {
     "name": "stdout",
     "output_type": "stream",
     "text": [
      "       5 split_0.txt\r\n",
      "       5 split_1.txt\r\n",
      "       5 split_2.txt\r\n",
      "       5 split_3.txt\r\n",
      "       4 split_4.txt\r\n",
      "      24 total\r\n"
     ]
    }
   ],
   "source": [
    "!wc -l split*.txt"
   ]
  },
  {
   "cell_type": "code",
   "execution_count": 4,
   "metadata": {},
   "outputs": [],
   "source": [
    "!rm split*.txt"
   ]
  }
 ],
 "metadata": {
  "kernelspec": {
   "display_name": "Python 3",
   "language": "python",
   "name": "python3"
  },
  "language_info": {
   "codemirror_mode": {
    "name": "ipython",
    "version": 3
   },
   "file_extension": ".py",
   "mimetype": "text/x-python",
   "name": "python",
   "nbconvert_exporter": "python",
   "pygments_lexer": "ipython3",
   "version": "3.6.4"
  }
 },
 "nbformat": 4,
 "nbformat_minor": 2
}
