{
 "cells": [
  {
   "cell_type": "markdown",
   "metadata": {},
   "source": [
    "# 先頭からN行を出力\n",
    "\n",
    "自然数Nをコマンドライン引数などの手段で受け取り，入力のうち先頭のN行だけを表示せよ．確認にはheadコマンドを用いよ．"
   ]
  },
  {
   "cell_type": "code",
   "execution_count": 1,
   "metadata": {},
   "outputs": [
    {
     "name": "stdout",
     "output_type": "stream",
     "text": [
      "# coding: utf-8\r\n",
      "\r\n",
      "import sys\r\n",
      "import argparse\r\n",
      "\r\n",
      "def head():\r\n",
      "    prog = 'head [-n count] [file ...]'\r\n",
      "    description = 'head -- display first lines of a file'\r\n",
      "    parser = argparse.ArgumentParser(prog=prog, description=description)\r\n",
      "    parser.add_argument('-n', default=10, type=int)\r\n",
      "    parser.add_argument('infile', nargs='?', type=argparse.FileType())\r\n",
      "    options = parser.parse_args()\r\n",
      "    \r\n",
      "    count = options.n\r\n",
      "    infile = options.infile or sys.stdin\r\n",
      "    outfile = sys.stdout\r\n",
      "\r\n",
      "    with infile, outfile:\r\n",
      "        for line_no, line in enumerate(infile, 0):\r\n",
      "            if line_no == count:\r\n",
      "                return\r\n",
      "            outfile.write(line)\r\n",
      "\r\n",
      "if __name__ == '__main__':\r\n",
      "    head()"
     ]
    }
   ],
   "source": [
    "!cat head.py"
   ]
  },
  {
   "cell_type": "code",
   "execution_count": 2,
   "metadata": {},
   "outputs": [
    {
     "name": "stdout",
     "output_type": "stream",
     "text": [
      "Files /dev/fd/63 and /dev/fd/62 are identical\n"
     ]
    }
   ],
   "source": [
    "%%bash\n",
    "diff -s <(python head.py -n 5 hightemp.txt) <(head -n 5 hightemp.txt)"
   ]
  }
 ],
 "metadata": {
  "kernelspec": {
   "display_name": "Python 3",
   "language": "python",
   "name": "python3"
  },
  "language_info": {
   "codemirror_mode": {
    "name": "ipython",
    "version": 3
   },
   "file_extension": ".py",
   "mimetype": "text/x-python",
   "name": "python",
   "nbconvert_exporter": "python",
   "pygments_lexer": "ipython3",
   "version": "3.6.4"
  }
 },
 "nbformat": 4,
 "nbformat_minor": 2
}
