{
 "cells": [
  {
   "cell_type": "markdown",
   "metadata": {},
   "source": [
    "# ファイル参照の抽出\n",
    "\n",
    "記事から参照されているメディアファイルをすべて抜き出せ．"
   ]
  },
  {
   "cell_type": "code",
   "execution_count": 1,
   "metadata": {},
   "outputs": [
    {
     "data": {
      "text/plain": [
       "['PalaceOfWestminsterAtNight.jpg',\n",
       " 'Westminster Abbey - West Door.jpg',\n",
       " 'Edinburgh Cockburn St dsc06789.jpg',\n",
       " 'Canterbury Cathedral - Portal Nave Cross-spire.jpeg',\n",
       " 'Kew Gardens Palm House, London - July 2009.jpg',\n",
       " '2005-06-27 - United Kingdom - England - London - Greenwich.jpg',\n",
       " 'Stonehenge2007 07 30.jpg',\n",
       " 'Yard2.jpg',\n",
       " 'Durham Kathedrale Nahaufnahme.jpg',\n",
       " 'Roman Baths in Bath Spa, England - July 2006.jpg',\n",
       " 'Fountains Abbey view02 2005-08-27.jpg',\n",
       " 'Blenheim Palace IMG 3673.JPG',\n",
       " 'Liverpool Pier Head by night.jpg',\n",
       " \"Hadrian's Wall view near Greenhead.jpg\",\n",
       " 'London Tower (1).JPG']"
      ]
     },
     "execution_count": 1,
     "metadata": {},
     "output_type": "execute_result"
    }
   ],
   "source": [
    "import re\n",
    "\n",
    "RE_FILE = re.compile(r'ファイル:(?P<name>.*?)\\|.*')\n",
    "\n",
    "result = []\n",
    "\n",
    "with open('Inglez.txt') as f:\n",
    "    for line in f:\n",
    "        m = RE_FILE.match(line)\n",
    "        if m:\n",
    "            result.append(m.group('name'))\n",
    "            \n",
    "result"
   ]
  }
 ],
 "metadata": {
  "kernelspec": {
   "display_name": "Python 3",
   "language": "python",
   "name": "python3"
  },
  "language_info": {
   "codemirror_mode": {
    "name": "ipython",
    "version": 3
   },
   "file_extension": ".py",
   "mimetype": "text/x-python",
   "name": "python",
   "nbconvert_exporter": "python",
   "pygments_lexer": "ipython3",
   "version": "3.6.4"
  }
 },
 "nbformat": 4,
 "nbformat_minor": 2
}
