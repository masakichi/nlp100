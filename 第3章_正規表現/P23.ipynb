{
 "cells": [
  {
   "cell_type": "markdown",
   "metadata": {},
   "source": [
    "# セクション構造\n",
    "\n",
    "記事中に含まれるセクション名とそのレベル（例えば\"== セクション名 ==\"なら1）を表示せよ．"
   ]
  },
  {
   "cell_type": "code",
   "execution_count": 1,
   "metadata": {},
   "outputs": [
    {
     "name": "stdout",
     "output_type": "stream",
     "text": [
      "level: 1, 国名\n",
      "level: 1, 歴史\n",
      "level: 1, 地理\n",
      "level: 2, 気候\n",
      "level: 1, 政治\n",
      "level: 1, 外交と軍事\n",
      "level: 1, 地方行政区分\n",
      "level: 2, 主要都市\n",
      "level: 1, 科学技術\n",
      "level: 1, 経済\n",
      "level: 2, 鉱業\n",
      "level: 2, 農業\n",
      "level: 2, 貿易\n",
      "level: 2, 通貨\n",
      "level: 2, 企業\n",
      "level: 1, 交通\n",
      "level: 2, 道路\n",
      "level: 2, 鉄道\n",
      "level: 2, 海運\n",
      "level: 2, 航空\n",
      "level: 1, 通信\n",
      "level: 1, 国民\n",
      "level: 2, 言語\n",
      "level: 2, 宗教\n",
      "level: 2,  婚姻 \n",
      "level: 2, 教育\n",
      "level: 1, 文化\n",
      "level: 2, 食文化\n",
      "level: 2, 文学\n",
      "level: 2,  哲学 \n",
      "level: 2, 音楽\n",
      "level: 3, イギリスのポピュラー音楽\n",
      "level: 2, 映画\n",
      "level: 2, コメディ\n",
      "level: 2, 国花\n",
      "level: 2, 世界遺産\n",
      "level: 2, 祝祭日\n",
      "level: 1, スポーツ\n",
      "level: 2, サッカー\n",
      "level: 2, 競馬\n",
      "level: 2, モータースポーツ\n",
      "level: 1, 脚注\n",
      "level: 1, 関連項目\n",
      "level: 1, 外部リンク\n"
     ]
    }
   ],
   "source": [
    "import re\n",
    "\n",
    "RE_SECTION = re.compile(r'^(?P<section>=+)(?P<name>.*?)=+$')\n",
    "\n",
    "with open('Inglez.txt') as f:\n",
    "    for line in f:\n",
    "        m = RE_SECTION.match(line)\n",
    "        if m:\n",
    "            level = len(m.group('section')) - 1\n",
    "            name = m.group('name')\n",
    "            print('level: %s, %s' % (level, name))"
   ]
  }
 ],
 "metadata": {
  "kernelspec": {
   "display_name": "Python 3",
   "language": "python",
   "name": "python3"
  },
  "language_info": {
   "codemirror_mode": {
    "name": "ipython",
    "version": 3
   },
   "file_extension": ".py",
   "mimetype": "text/x-python",
   "name": "python",
   "nbconvert_exporter": "python",
   "pygments_lexer": "ipython3",
   "version": "3.6.4"
  }
 },
 "nbformat": 4,
 "nbformat_minor": 2
}
