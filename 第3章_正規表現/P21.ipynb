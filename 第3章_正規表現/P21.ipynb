{
 "cells": [
  {
   "cell_type": "markdown",
   "metadata": {},
   "source": [
    "# カテゴリ名を含む行を抽出\n",
    "\n",
    "記事中でカテゴリ名を宣言している行を抽出せよ．"
   ]
  },
  {
   "cell_type": "code",
   "execution_count": 1,
   "metadata": {},
   "outputs": [
    {
     "data": {
      "text/plain": [
       "['[[Category:イギリス|*]]\\n',\n",
       " '[[Category:英連邦王国|*]]\\n',\n",
       " '[[Category:G8加盟国]]\\n',\n",
       " '[[Category:欧州連合加盟国]]\\n',\n",
       " '[[Category:海洋国家]]\\n',\n",
       " '[[Category:君主国]]\\n',\n",
       " '[[Category:島国|くれいとふりてん]]\\n',\n",
       " '[[Category:1801年に設立された州・地域]]']"
      ]
     },
     "execution_count": 1,
     "metadata": {},
     "output_type": "execute_result"
    }
   ],
   "source": [
    "import re\n",
    "\n",
    "RE_CATEGORY = re.compile(r'^\\[\\[Category:.*\\]\\]$')\n",
    "\n",
    "result = []\n",
    "\n",
    "with open('Inglez.txt') as f:\n",
    "    for line in f:\n",
    "        if RE_CATEGORY.match(line):\n",
    "            result.append(line)\n",
    "\n",
    "result"
   ]
  }
 ],
 "metadata": {
  "kernelspec": {
   "display_name": "Python 3",
   "language": "python",
   "name": "python3"
  },
  "language_info": {
   "codemirror_mode": {
    "name": "ipython",
    "version": 3
   },
   "file_extension": ".py",
   "mimetype": "text/x-python",
   "name": "python",
   "nbconvert_exporter": "python",
   "pygments_lexer": "ipython3",
   "version": "3.6.4"
  }
 },
 "nbformat": 4,
 "nbformat_minor": 2
}
