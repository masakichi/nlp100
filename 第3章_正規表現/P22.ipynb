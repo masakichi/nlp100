{
 "cells": [
  {
   "cell_type": "markdown",
   "metadata": {},
   "source": [
    "# カテゴリ名の抽出\n",
    "\n",
    "記事のカテゴリ名を（行単位ではなく名前で）抽出せよ"
   ]
  },
  {
   "cell_type": "code",
   "execution_count": 1,
   "metadata": {},
   "outputs": [
    {
     "data": {
      "text/plain": [
       "['イギリス|*',\n",
       " '英連邦王国|*',\n",
       " 'G8加盟国',\n",
       " '欧州連合加盟国',\n",
       " '海洋国家',\n",
       " '君主国',\n",
       " '島国|くれいとふりてん',\n",
       " '1801年に設立された州・地域']"
      ]
     },
     "execution_count": 1,
     "metadata": {},
     "output_type": "execute_result"
    }
   ],
   "source": [
    "import re\n",
    "\n",
    "RE_CATEGORY_NAME = re.compile(r'^\\[\\[Category:(?P<name>.*)\\]\\]$')\n",
    "\n",
    "result = []\n",
    "\n",
    "with open('Inglez.txt') as f:\n",
    "    for line in f:\n",
    "        m = RE_CATEGORY_NAME.match(line)\n",
    "        if m:\n",
    "            result.append(m.group('name'))\n",
    "            \n",
    "result"
   ]
  }
 ],
 "metadata": {
  "kernelspec": {
   "display_name": "Python 3",
   "language": "python",
   "name": "python3"
  },
  "language_info": {
   "codemirror_mode": {
    "name": "ipython",
    "version": 3
   },
   "file_extension": ".py",
   "mimetype": "text/x-python",
   "name": "python",
   "nbconvert_exporter": "python",
   "pygments_lexer": "ipython3",
   "version": "3.6.4"
  }
 },
 "nbformat": 4,
 "nbformat_minor": 2
}
